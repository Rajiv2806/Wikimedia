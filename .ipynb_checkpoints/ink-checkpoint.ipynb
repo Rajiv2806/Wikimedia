{
 "cells": [
  {
   "cell_type": "code",
   "execution_count": null,
   "metadata": {
    "collapsed": true
   },
   "outputs": [],
   "source": [
    "import pandas as pd\n",
    "import time\n",
    "import matplotlib.pyplot as plt"
   ]
  },
  {
   "cell_type": "code",
   "execution_count": 3,
   "metadata": {
    "collapsed": false,
    "deletable": true,
    "editable": true
   },
   "outputs": [
    {
     "data": {
      "text/html": [
       "<div>\n",
       "<table border=\"1\" class=\"dataframe\">\n",
       "  <thead>\n",
       "    <tr style=\"text-align: right;\">\n",
       "      <th></th>\n",
       "      <th>uuid</th>\n",
       "      <th>timestamp</th>\n",
       "      <th>session_id</th>\n",
       "      <th>group</th>\n",
       "      <th>action</th>\n",
       "      <th>checkin</th>\n",
       "      <th>page_id</th>\n",
       "      <th>n_results</th>\n",
       "      <th>result_position</th>\n",
       "    </tr>\n",
       "  </thead>\n",
       "  <tbody>\n",
       "    <tr>\n",
       "      <th>0</th>\n",
       "      <td>00000736167c507e8ec225bd9e71f9e5</td>\n",
       "      <td>2.016030e+13</td>\n",
       "      <td>78245c2c3fba013a</td>\n",
       "      <td>b</td>\n",
       "      <td>searchResultPage</td>\n",
       "      <td>NaN</td>\n",
       "      <td>cbeb66d1bc1f1bc2</td>\n",
       "      <td>5.0</td>\n",
       "      <td>NaN</td>\n",
       "    </tr>\n",
       "    <tr>\n",
       "      <th>1</th>\n",
       "      <td>00000c69fe345268935463abbfa5d5b3</td>\n",
       "      <td>2.016031e+13</td>\n",
       "      <td>c559c3be98dca8a4</td>\n",
       "      <td>a</td>\n",
       "      <td>searchResultPage</td>\n",
       "      <td>NaN</td>\n",
       "      <td>eb658e8722aad674</td>\n",
       "      <td>10.0</td>\n",
       "      <td>NaN</td>\n",
       "    </tr>\n",
       "    <tr>\n",
       "      <th>2</th>\n",
       "      <td>00003bfdab715ee59077a3670331b787</td>\n",
       "      <td>2.016030e+13</td>\n",
       "      <td>760bf89817ce4b08</td>\n",
       "      <td>a</td>\n",
       "      <td>checkin</td>\n",
       "      <td>30.0</td>\n",
       "      <td>f99a9fc1f7fdd21e</td>\n",
       "      <td>NaN</td>\n",
       "      <td>NaN</td>\n",
       "    </tr>\n",
       "    <tr>\n",
       "      <th>3</th>\n",
       "      <td>0000465cd7c35ad2bdeafec953e08c1a</td>\n",
       "      <td>2.016030e+13</td>\n",
       "      <td>fb905603d31b2071</td>\n",
       "      <td>a</td>\n",
       "      <td>checkin</td>\n",
       "      <td>60.0</td>\n",
       "      <td>e5626962a6939a75</td>\n",
       "      <td>NaN</td>\n",
       "      <td>10.0</td>\n",
       "    </tr>\n",
       "    <tr>\n",
       "      <th>4</th>\n",
       "      <td>000050cbb4ef5b42b16c4d2cf69e6358</td>\n",
       "      <td>2.016030e+13</td>\n",
       "      <td>c2bf5e5172a892dc</td>\n",
       "      <td>a</td>\n",
       "      <td>checkin</td>\n",
       "      <td>30.0</td>\n",
       "      <td>787dd6a4c371cbf9</td>\n",
       "      <td>NaN</td>\n",
       "      <td>NaN</td>\n",
       "    </tr>\n",
       "  </tbody>\n",
       "</table>\n",
       "</div>"
      ],
      "text/plain": [
       "                               uuid     timestamp        session_id group  \\\n",
       "0  00000736167c507e8ec225bd9e71f9e5  2.016030e+13  78245c2c3fba013a     b   \n",
       "1  00000c69fe345268935463abbfa5d5b3  2.016031e+13  c559c3be98dca8a4     a   \n",
       "2  00003bfdab715ee59077a3670331b787  2.016030e+13  760bf89817ce4b08     a   \n",
       "3  0000465cd7c35ad2bdeafec953e08c1a  2.016030e+13  fb905603d31b2071     a   \n",
       "4  000050cbb4ef5b42b16c4d2cf69e6358  2.016030e+13  c2bf5e5172a892dc     a   \n",
       "\n",
       "             action  checkin           page_id  n_results  result_position  \n",
       "0  searchResultPage      NaN  cbeb66d1bc1f1bc2        5.0              NaN  \n",
       "1  searchResultPage      NaN  eb658e8722aad674       10.0              NaN  \n",
       "2           checkin     30.0  f99a9fc1f7fdd21e        NaN              NaN  \n",
       "3           checkin     60.0  e5626962a6939a75        NaN             10.0  \n",
       "4           checkin     30.0  787dd6a4c371cbf9        NaN              NaN  "
      ]
     },
     "execution_count": 3,
     "metadata": {},
     "output_type": "execute_result"
    }
   ],
   "source": [
    "dataset = pd.read_csv(\"C:\\\\Users\\\\Rajiv2806\\\\Documents\\\\Resumes\\\\Inkredo Assesement\\\\test\\\\Wikimedia\\\\events_log.csv\")\n",
    "dataset.head()"
   ]
  },
  {
   "cell_type": "code",
   "execution_count": 4,
   "metadata": {
    "collapsed": false,
    "deletable": true,
    "editable": true
   },
   "outputs": [
    {
     "data": {
      "text/html": [
       "<div>\n",
       "<table border=\"1\" class=\"dataframe\">\n",
       "  <thead>\n",
       "    <tr style=\"text-align: right;\">\n",
       "      <th></th>\n",
       "      <th>uuid</th>\n",
       "      <th>timestamp</th>\n",
       "      <th>session_id</th>\n",
       "      <th>group</th>\n",
       "      <th>action</th>\n",
       "      <th>checkin</th>\n",
       "      <th>page_id</th>\n",
       "      <th>n_results</th>\n",
       "      <th>result_position</th>\n",
       "      <th>time_formatted</th>\n",
       "      <th>Day</th>\n",
       "    </tr>\n",
       "  </thead>\n",
       "  <tbody>\n",
       "    <tr>\n",
       "      <th>0</th>\n",
       "      <td>00000736167c507e8ec225bd9e71f9e5</td>\n",
       "      <td>2.016030e+13</td>\n",
       "      <td>78245c2c3fba013a</td>\n",
       "      <td>b</td>\n",
       "      <td>searchResultPage</td>\n",
       "      <td>NaN</td>\n",
       "      <td>cbeb66d1bc1f1bc2</td>\n",
       "      <td>5.0</td>\n",
       "      <td>NaN</td>\n",
       "      <td>2.01603011038e+13</td>\n",
       "      <td>01</td>\n",
       "    </tr>\n",
       "    <tr>\n",
       "      <th>1</th>\n",
       "      <td>00000c69fe345268935463abbfa5d5b3</td>\n",
       "      <td>2.016031e+13</td>\n",
       "      <td>c559c3be98dca8a4</td>\n",
       "      <td>a</td>\n",
       "      <td>searchResultPage</td>\n",
       "      <td>NaN</td>\n",
       "      <td>eb658e8722aad674</td>\n",
       "      <td>10.0</td>\n",
       "      <td>NaN</td>\n",
       "      <td>2.01603070052e+13</td>\n",
       "      <td>07</td>\n",
       "    </tr>\n",
       "    <tr>\n",
       "      <th>2</th>\n",
       "      <td>00003bfdab715ee59077a3670331b787</td>\n",
       "      <td>2.016030e+13</td>\n",
       "      <td>760bf89817ce4b08</td>\n",
       "      <td>a</td>\n",
       "      <td>checkin</td>\n",
       "      <td>30.0</td>\n",
       "      <td>f99a9fc1f7fdd21e</td>\n",
       "      <td>NaN</td>\n",
       "      <td>NaN</td>\n",
       "      <td>2.01603021453e+13</td>\n",
       "      <td>02</td>\n",
       "    </tr>\n",
       "    <tr>\n",
       "      <th>3</th>\n",
       "      <td>0000465cd7c35ad2bdeafec953e08c1a</td>\n",
       "      <td>2.016030e+13</td>\n",
       "      <td>fb905603d31b2071</td>\n",
       "      <td>a</td>\n",
       "      <td>checkin</td>\n",
       "      <td>60.0</td>\n",
       "      <td>e5626962a6939a75</td>\n",
       "      <td>NaN</td>\n",
       "      <td>10.0</td>\n",
       "      <td>2.01603022227e+13</td>\n",
       "      <td>02</td>\n",
       "    </tr>\n",
       "    <tr>\n",
       "      <th>4</th>\n",
       "      <td>000050cbb4ef5b42b16c4d2cf69e6358</td>\n",
       "      <td>2.016030e+13</td>\n",
       "      <td>c2bf5e5172a892dc</td>\n",
       "      <td>a</td>\n",
       "      <td>checkin</td>\n",
       "      <td>30.0</td>\n",
       "      <td>787dd6a4c371cbf9</td>\n",
       "      <td>NaN</td>\n",
       "      <td>NaN</td>\n",
       "      <td>2.0160302095e+13</td>\n",
       "      <td>02</td>\n",
       "    </tr>\n",
       "  </tbody>\n",
       "</table>\n",
       "</div>"
      ],
      "text/plain": [
       "                               uuid     timestamp        session_id group  \\\n",
       "0  00000736167c507e8ec225bd9e71f9e5  2.016030e+13  78245c2c3fba013a     b   \n",
       "1  00000c69fe345268935463abbfa5d5b3  2.016031e+13  c559c3be98dca8a4     a   \n",
       "2  00003bfdab715ee59077a3670331b787  2.016030e+13  760bf89817ce4b08     a   \n",
       "3  0000465cd7c35ad2bdeafec953e08c1a  2.016030e+13  fb905603d31b2071     a   \n",
       "4  000050cbb4ef5b42b16c4d2cf69e6358  2.016030e+13  c2bf5e5172a892dc     a   \n",
       "\n",
       "             action  checkin           page_id  n_results  result_position  \\\n",
       "0  searchResultPage      NaN  cbeb66d1bc1f1bc2        5.0              NaN   \n",
       "1  searchResultPage      NaN  eb658e8722aad674       10.0              NaN   \n",
       "2           checkin     30.0  f99a9fc1f7fdd21e        NaN              NaN   \n",
       "3           checkin     60.0  e5626962a6939a75        NaN             10.0   \n",
       "4           checkin     30.0  787dd6a4c371cbf9        NaN              NaN   \n",
       "\n",
       "      time_formatted Day  \n",
       "0  2.01603011038e+13  01  \n",
       "1  2.01603070052e+13  07  \n",
       "2  2.01603021453e+13  02  \n",
       "3  2.01603022227e+13  02  \n",
       "4   2.0160302095e+13  02  "
      ]
     },
     "execution_count": 4,
     "metadata": {},
     "output_type": "execute_result"
    }
   ],
   "source": [
    "dataset['time_formatted'] = dataset.timestamp.astype(str)\n",
    "\n",
    "for i in range(len(dataset)):\n",
    "    dataset.at[i,'Day'] = dataset.time_formatted.loc[i][7:9]\n",
    "    \n",
    "dataset.head()"
   ]
  },
  {
   "cell_type": "code",
   "execution_count": 5,
   "metadata": {
    "collapsed": false,
    "deletable": true,
    "editable": true
   },
   "outputs": [],
   "source": [
    "a_count_search = dataset[(dataset.group == \"a\" )&(dataset.action == 'searchResultPage')].groupby(['Day'])['uuid'].count()\n",
    "b_count_search = dataset[(dataset.group == \"b\" )&(dataset.action == 'searchResultPage')].groupby(['Day'])['uuid'].count()\n",
    "a_count_visits = dataset[(dataset.group == \"a\" )&(dataset.action == 'visitPage')].groupby(['Day'])['uuid'].count()\n",
    "b_count_visits = dataset[(dataset.group == \"b\" )&(dataset.action == 'visitPage')].groupby(['Day'])['uuid'].count()"
   ]
  },
  {
   "cell_type": "code",
   "execution_count": 17,
   "metadata": {
    "collapsed": false,
    "deletable": true,
    "editable": true
   },
   "outputs": [],
   "source": [
    "Q1_df = pd.DataFrame({'Xa':a_count_search,'Ya':a_count_visits,'Xb':b_count_search,'Yb':b_count_visits})\n",
    "Q1_df['CTRa'] = Q1_df['Ya']/Q1_df['Xa']\n",
    "Q1_df['CTRb'] = Q1_df['Yb']/Q1_df['Xb'] "
   ]
  },
  {
   "cell_type": "code",
   "execution_count": 18,
   "metadata": {
    "collapsed": false
   },
   "outputs": [
    {
     "data": {
      "text/html": [
       "<div>\n",
       "<table border=\"1\" class=\"dataframe\">\n",
       "  <thead>\n",
       "    <tr style=\"text-align: right;\">\n",
       "      <th></th>\n",
       "      <th>Xa</th>\n",
       "      <th>Xb</th>\n",
       "      <th>Ya</th>\n",
       "      <th>Yb</th>\n",
       "      <th>CTRa</th>\n",
       "      <th>CTRb</th>\n",
       "    </tr>\n",
       "    <tr>\n",
       "      <th>Day</th>\n",
       "      <th></th>\n",
       "      <th></th>\n",
       "      <th></th>\n",
       "      <th></th>\n",
       "      <th></th>\n",
       "      <th></th>\n",
       "    </tr>\n",
       "  </thead>\n",
       "  <tbody>\n",
       "    <tr>\n",
       "      <th>01</th>\n",
       "      <td>12582</td>\n",
       "      <td>5792</td>\n",
       "      <td>5925</td>\n",
       "      <td>729</td>\n",
       "      <td>0.470911</td>\n",
       "      <td>0.125863</td>\n",
       "    </tr>\n",
       "    <tr>\n",
       "      <th>02</th>\n",
       "      <td>13209</td>\n",
       "      <td>5693</td>\n",
       "      <td>5932</td>\n",
       "      <td>760</td>\n",
       "      <td>0.449088</td>\n",
       "      <td>0.133497</td>\n",
       "    </tr>\n",
       "    <tr>\n",
       "      <th>03</th>\n",
       "      <td>13280</td>\n",
       "      <td>5879</td>\n",
       "      <td>5775</td>\n",
       "      <td>799</td>\n",
       "      <td>0.434864</td>\n",
       "      <td>0.135907</td>\n",
       "    </tr>\n",
       "    <tr>\n",
       "      <th>04</th>\n",
       "      <td>11298</td>\n",
       "      <td>5377</td>\n",
       "      <td>3381</td>\n",
       "      <td>913</td>\n",
       "      <td>0.299257</td>\n",
       "      <td>0.169797</td>\n",
       "    </tr>\n",
       "    <tr>\n",
       "      <th>05</th>\n",
       "      <td>8612</td>\n",
       "      <td>4592</td>\n",
       "      <td>2513</td>\n",
       "      <td>810</td>\n",
       "      <td>0.291802</td>\n",
       "      <td>0.176394</td>\n",
       "    </tr>\n",
       "    <tr>\n",
       "      <th>06</th>\n",
       "      <td>9469</td>\n",
       "      <td>5143</td>\n",
       "      <td>2901</td>\n",
       "      <td>857</td>\n",
       "      <td>0.306368</td>\n",
       "      <td>0.166634</td>\n",
       "    </tr>\n",
       "    <tr>\n",
       "      <th>07</th>\n",
       "      <td>12699</td>\n",
       "      <td>6312</td>\n",
       "      <td>3610</td>\n",
       "      <td>1104</td>\n",
       "      <td>0.284274</td>\n",
       "      <td>0.174905</td>\n",
       "    </tr>\n",
       "    <tr>\n",
       "      <th>08</th>\n",
       "      <td>10907</td>\n",
       "      <td>5390</td>\n",
       "      <td>3228</td>\n",
       "      <td>870</td>\n",
       "      <td>0.295957</td>\n",
       "      <td>0.161410</td>\n",
       "    </tr>\n",
       "  </tbody>\n",
       "</table>\n",
       "</div>"
      ],
      "text/plain": [
       "        Xa    Xb    Ya    Yb      CTRa      CTRb\n",
       "Day                                             \n",
       "01   12582  5792  5925   729  0.470911  0.125863\n",
       "02   13209  5693  5932   760  0.449088  0.133497\n",
       "03   13280  5879  5775   799  0.434864  0.135907\n",
       "04   11298  5377  3381   913  0.299257  0.169797\n",
       "05    8612  4592  2513   810  0.291802  0.176394\n",
       "06    9469  5143  2901   857  0.306368  0.166634\n",
       "07   12699  6312  3610  1104  0.284274  0.174905\n",
       "08   10907  5390  3228   870  0.295957  0.161410"
      ]
     },
     "execution_count": 18,
     "metadata": {},
     "output_type": "execute_result"
    }
   ],
   "source": [
    "Q1_df"
   ]
  },
  {
   "cell_type": "code",
   "execution_count": 19,
   "metadata": {
    "collapsed": false,
    "deletable": true,
    "editable": true
   },
   "outputs": [
    {
     "data": {
      "image/png": "[encoded data removed]",
      "text/plain": [
       "<matplotlib.figure.Figure at 0x1b555940>"
      ]
     },
     "metadata": {},
     "output_type": "display_data"
    }
   ],
   "source": [
    "pos = list(range(len(Q1_df))) \n",
    "width = 0.25 \n",
    "\n",
    "fig, ax = plt.subplots(figsize=(10,5))\n",
    "\n",
    "plt.bar(pos, Q1_df['CTRa'],width, alpha=0.5,color='#EE3224',label=Q1_df.index[0]) \n",
    "\n",
    "plt.bar([p + width for p in pos], Q1_df['CTRb'],width,alpha=0.5,color='#F78F1E', label=Q1_df.index[1]) \n",
    "\n",
    "ax.set_ylabel('CTR Score')\n",
    "ax.set_xlabel('Day')\n",
    "\n",
    "ax.set_title('Day Wise Click Through Rate for groups')\n",
    "\n",
    "# Set the position of the x ticks\n",
    "ax.set_xticks([p + 1.5 * width for p in pos])\n",
    "\n",
    "# Set the labels for the x ticks\n",
    "ax.set_xticklabels(Q1_df.index)\n",
    "\n",
    "plt.legend(['a', 'b', 'Post Score'], loc='upper left')\n",
    "plt.grid()\n",
    "plt.show()"
   ]
  },
  {
   "cell_type": "markdown",
   "metadata": {},
   "source": [
    "The overall ctr for group \"a\" is more. But the CTR has been showing a continuously decreasing trend for group \"a\".\n",
    "while the CTR for \"b\" has shown a minimal increase in trend over the days."
   ]
  },
  {
   "cell_type": "markdown",
   "metadata": {},
   "source": [
    "2.\tWhich result position do people tend to try first? How does it change day-to-day?"
   ]
  },
  {
   "cell_type": "code",
   "execution_count": 54,
   "metadata": {
    "collapsed": false
   },
   "outputs": [
    {
     "name": "stdout",
     "output_type": "stream",
     "text": [
      "Most Clicked result position for group 'a' is:\n"
     ]
    },
    {
     "data": {
      "text/html": [
       "<div>\n",
       "<table border=\"1\" class=\"dataframe\">\n",
       "  <thead>\n",
       "    <tr style=\"text-align: right;\">\n",
       "      <th></th>\n",
       "      <th>uuid</th>\n",
       "    </tr>\n",
       "    <tr>\n",
       "      <th>result_position</th>\n",
       "      <th></th>\n",
       "    </tr>\n",
       "  </thead>\n",
       "  <tbody>\n",
       "    <tr>\n",
       "      <th>1.0</th>\n",
       "      <td>110733</td>\n",
       "    </tr>\n",
       "  </tbody>\n",
       "</table>\n",
       "</div>"
      ],
      "text/plain": [
       "                   uuid\n",
       "result_position        \n",
       "1.0              110733"
      ]
     },
     "execution_count": 54,
     "metadata": {},
     "output_type": "execute_result"
    }
   ],
   "source": [
    "tempa = pd.DataFrame(dataset[(dataset.group == \"a\")].groupby(['result_position'])['uuid'].count())\n",
    "\n",
    "print \"Most Clicked result position for group 'a' is:\"\n",
    "tempa[tempa.uuid == max(tempa.uuid)]"
   ]
  },
  {
   "cell_type": "code",
   "execution_count": 55,
   "metadata": {
    "collapsed": false
   },
   "outputs": [
    {
     "name": "stdout",
     "output_type": "stream",
     "text": [
      "Most Clicked result position for group 'b' is:\n"
     ]
    },
    {
     "data": {
      "text/html": [
       "<div>\n",
       "<table border=\"1\" class=\"dataframe\">\n",
       "  <thead>\n",
       "    <tr style=\"text-align: right;\">\n",
       "      <th></th>\n",
       "      <th>uuid</th>\n",
       "    </tr>\n",
       "    <tr>\n",
       "      <th>result_position</th>\n",
       "      <th></th>\n",
       "    </tr>\n",
       "  </thead>\n",
       "  <tbody>\n",
       "    <tr>\n",
       "      <th>1.0</th>\n",
       "      <td>38621</td>\n",
       "    </tr>\n",
       "  </tbody>\n",
       "</table>\n",
       "</div>"
      ],
      "text/plain": [
       "                  uuid\n",
       "result_position       \n",
       "1.0              38621"
      ]
     },
     "execution_count": 55,
     "metadata": {},
     "output_type": "execute_result"
    }
   ],
   "source": [
    "tempb = pd.DataFrame(dataset[(dataset.group == \"b\")].groupby(['result_position'])['uuid'].count())\n",
    "\n",
    "print \"Most Clicked result position for group 'b' is:\"\n",
    "tempb[tempb.uuid == max(tempb.uuid)]"
   ]
  },
  {
   "cell_type": "code",
   "execution_count": 64,
   "metadata": {
    "collapsed": false
   },
   "outputs": [],
   "source": [
    "temp_dfa = pd.DataFrame(dataset[(dataset.group == \"a\")&(dataset.res)].groupby(['Day','result_position'],as_index=False)['uuid'].count())\n",
    "temp_dfb = pd.DataFrame(dataset[(dataset.group == \"b\")].groupby(['Day','result_position'],as_index=False)['uuid'].count())"
   ]
  },
  {
   "cell_type": "code",
   "execution_count": 77,
   "metadata": {
    "collapsed": false
   },
   "outputs": [],
   "source": [
    "# temp_dfa.groupby('Day').count()#[temp_dfa.uuid == max(temp_dfa.uuid)]\n",
    "\n",
    "days = list(pd.unique(dataset.Day))\n",
    "for i in days()\n",
    "    unique_sess_ga_day1 = list(pd.unique(dataset[(dataset.group == \"a\")&(dataset.Day==i)]['session_id']))\n",
    "    unique_sess_gb_day1 = list(pd.unique(dataset[(dataset.group == \"b\")&(dataset.Day==i)]['session_id']))\n",
    "\n",
    "    a1 = [];a2 = []\n",
    "    for i in unique_sess_ga_day1:\n",
    "            a1.append(list(pd.unique(dataset[(dataset.session_id == i)&(dataset.group=='a')]['result_position'])))\n",
    "    for i in range(len(a1)):\n",
    "            a2.append(a1[i])\n",
    "            \n",
    "    b1 = [];b2 = []\n",
    "    for i in unique_sess_gb_day1:\n",
    "            b1.append(list(pd.unique(dataset[(dataset.session_id == i)&(dataset.group=='b')]['result_position'])))\n",
    "    for i in range(len(b1)):\n",
    "            b2.append(a1[i])\n",
    "            "
   ]
  },
  {
   "cell_type": "code",
   "execution_count": 191,
   "metadata": {
    "collapsed": false
   },
   "outputs": [],
   "source": [
    "# days = list(pd.unique(dataset.Day))\n",
    "# tempa_d1 = pd.DataFrame()\n",
    "def func1(g,d):\n",
    "    tempa_d1 = pd.DataFrame()\n",
    "\n",
    "    unique_sess_ga_day = list(pd.unique(dataset[(dataset.group == g)&(dataset.Day==d)]['session_id']))\n",
    "\n",
    "    tempa_d1 = pd.DataFrame({'sid': unique_sess_ga_day})    \n",
    "\n",
    "    for i in range(0,len(tempa_d1)):\n",
    "        try:\n",
    "            tempa_d1.at[i,'result_pos'] = max(dataset[(dataset.session_id == tempa_d1.sid[i])&(dataset.group == g)&(dataset.result_position.notnull())]['result_position'])\n",
    "        except:\n",
    "            tempa_d1.at[i,'result_pos'] = '0'\n",
    "        tempa_d1.at[i,'day'] = d\n",
    "\n",
    "    tempa_d1_1 = tempa_d1[tempa_d1.result_pos != 0].groupby(['result_pos'],as_index=False)['day'].count()\n",
    "    maximum = max(tempa_d1[tempa_d1.result_pos != 0].groupby(['result_pos'],as_index=False)['day'].count()['day'])\n",
    "    val = tempa_d1_1[tempa_d1_1.day == maximum]['result_pos']\n",
    "    return val[0]"
   ]
  },
  {
   "cell_type": "code",
   "execution_count": null,
   "metadata": {
    "collapsed": false
   },
   "outputs": [
    {
     "name": "stdout",
     "output_type": "stream",
     "text": [
      "-------Start Time:--------- Tue Nov 14 13:27:05 2017\n"
     ]
    }
   ],
   "source": [
    "start_time = time.ctime()\n",
    "print \"-------Start Time:---------\",start_time\n",
    "run_time = time.clock()\n",
    "\n",
    "Q2_df = pd.DataFrame()\n",
    "\n",
    "Q2_df.at[1,'ga'] = func1('a','01')\n",
    "Q2_df.at[1,'gb'] = func1('b','01')\n",
    "print \"Day1\"\n",
    "\n",
    "Q2_df.at[2,'ga'] = func1('a','02')\n",
    "Q2_df.at[2,'gb'] = func1('b','02')\n",
    "print \"Day2\"\n",
    "\n",
    "Q2_df.at[3,'ga'] = func1('a','03')\n",
    "Q2_df.at[3,'gb'] = func1('b','03')\n",
    "print \"Day3\"\n",
    "\n",
    "Q2_df.at[4,'ga'] = func1('a','04')\n",
    "Q2_df.at[4,'gb'] = func1('b','04')\n",
    "print \"Day4\"\n",
    "\n",
    "Q2_df.at[5,'ga'] = func1('a','05')\n",
    "Q2_df.at[5,'gb'] = func1('b','05')\n",
    "print \"Day5\"\n",
    "\n",
    "Q2_df.at[6,'ga'] = func1('a','06')\n",
    "Q2_df.at[6,'gb'] = func1('b','06')\n",
    "print \"Day6\"\n",
    "\n",
    "Q2_df.at[7,'ga'] = func1('a','07')\n",
    "Q2_df.at[7,'gb'] = func1('b','07')\n",
    "print \"Day7\"\n",
    "\n",
    "Q2_df.at[8,'ga'] = func1('a','08')\n",
    "Q2_df.at[8,'gb'] = func1('b','08')\n",
    "print \"Day8\"\n",
    "\n",
    "print \"------Execution time:-------\",(time.clock()-run_time)/60,\" Minutes.\""
   ]
  },
  {
   "cell_type": "code",
   "execution_count": null,
   "metadata": {
    "collapsed": true
   },
   "outputs": [],
   "source": [
    "print \"------Execution time:-------\",(time.clock()-run_time)/60,\" Minutes.\"\n",
    "Q2_df"
   ]
  }
 ],
 "metadata": {
  "kernelspec": {
   "display_name": "Python 2",
   "language": "python",
   "name": "python2"
  },
  "language_info": {
   "codemirror_mode": {
    "name": "ipython",
    "version": 2
   },
   "file_extension": ".py",
   "mimetype": "text/x-python",
   "name": "python",
   "nbconvert_exporter": "python",
   "pygments_lexer": "ipython2",
   "version": "2.7.13"
  }
 },
 "nbformat": 4,
 "nbformat_minor": 2
}
