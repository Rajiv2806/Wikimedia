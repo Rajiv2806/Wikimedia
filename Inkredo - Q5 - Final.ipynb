{
 "cells": [
  {
   "cell_type": "code",
   "execution_count": 1,
   "metadata": {
    "collapsed": false,
    "deletable": true,
    "editable": true
   },
   "outputs": [
    {
     "name": "stderr",
     "output_type": "stream",
     "text": [
      "C:\\Users\\Rajiv2806\\AppData\\Local\\Enthought\\Canopy\\edm\\envs\\User\\lib\\site-packages\\sklearn\\cross_validation.py:44: DeprecationWarning: This module was deprecated in version 0.18 in favor of the model_selection module into which all the refactored classes and functions are moved. Also note that the interface of the new CV iterators are different from that of this module. This module will be removed in 0.20.\n",
      "  \"This module will be removed in 0.20.\", DeprecationWarning)\n"
     ]
    }
   ],
   "source": [
    "import warnings\n",
    "warnings.filterwarnings(\"ignore\")\n",
    "\n",
    "import math\n",
    "import pandas as pd\n",
    "import numpy as np\n",
    "from numpy import loadtxt, where\n",
    "\n",
    "from sklearn import preprocessing\n",
    "from sklearn.cross_validation import train_test_split\n",
    "from sklearn.metrics import accuracy_score \n",
    "\n",
    "from sklearn.linear_model import LogisticRegression\n",
    "from sklearn.tree import DecisionTreeClassifier\n",
    "from sklearn.neighbors import KNeighborsClassifier\n",
    "from sklearn.discriminant_analysis import LinearDiscriminantAnalysis\n",
    "from sklearn.naive_bayes import GaussianNB\n",
    "from sklearn.svm import SVC\n",
    "\n",
    "import matplotlib.pyplot as plt\n",
    "from pylab import scatter, show, legend, xlabel, ylabel"
   ]
  },
  {
   "cell_type": "code",
   "execution_count": 2,
   "metadata": {
    "collapsed": false,
    "deletable": true,
    "editable": true
   },
   "outputs": [],
   "source": [
    "dataset = pd.read_csv(\"C:\\Users\\Rajiv2806\\Documents\\Resumes\\Inkredo Assesement\\events_log.csv\")\n",
    "dataset = dataset.sort_values(['session_id','timestamp'])\n",
    "dataset = dataset.fillna(0.0)\n",
    "dataset.index = np.arange(1, len(dataset) + 1)"
   ]
  },
  {
   "cell_type": "markdown",
   "metadata": {
    "deletable": true,
    "editable": true
   },
   "source": [
    "## Data set preperation for Modelling"
   ]
  },
  {
   "cell_type": "code",
   "execution_count": 3,
   "metadata": {
    "collapsed": false,
    "deletable": true,
    "editable": true
   },
   "outputs": [
    {
     "data": {
      "text/html": [
       "<div>\n",
       "<style scoped>\n",
       "    .dataframe tbody tr th:only-of-type {\n",
       "        vertical-align: middle;\n",
       "    }\n",
       "\n",
       "    .dataframe tbody tr th {\n",
       "        vertical-align: top;\n",
       "    }\n",
       "\n",
       "    .dataframe thead th {\n",
       "        text-align: right;\n",
       "    }\n",
       "</style>\n",
       "<table border=\"1\" class=\"dataframe\">\n",
       "  <thead>\n",
       "    <tr style=\"text-align: right;\">\n",
       "      <th></th>\n",
       "      <th>session_id</th>\n",
       "      <th>action</th>\n",
       "      <th>result_position</th>\n",
       "      <th>group</th>\n",
       "      <th>n_results</th>\n",
       "      <th>checkin</th>\n",
       "    </tr>\n",
       "  </thead>\n",
       "  <tbody>\n",
       "    <tr>\n",
       "      <th>0</th>\n",
       "      <td>0000cbcb67c19c45</td>\n",
       "      <td>searchResultPage</td>\n",
       "      <td>0.0</td>\n",
       "      <td>b</td>\n",
       "      <td>20.0</td>\n",
       "      <td>0.0</td>\n",
       "    </tr>\n",
       "    <tr>\n",
       "      <th>1</th>\n",
       "      <td>0001382e027b2ea4</td>\n",
       "      <td>checkin</td>\n",
       "      <td>1.0</td>\n",
       "      <td>b</td>\n",
       "      <td>0.0</td>\n",
       "      <td>300.0</td>\n",
       "    </tr>\n",
       "    <tr>\n",
       "      <th>2</th>\n",
       "      <td>0001382e027b2ea4</td>\n",
       "      <td>searchResultPage</td>\n",
       "      <td>0.0</td>\n",
       "      <td>b</td>\n",
       "      <td>18.0</td>\n",
       "      <td>0.0</td>\n",
       "    </tr>\n",
       "    <tr>\n",
       "      <th>3</th>\n",
       "      <td>0001382e027b2ea4</td>\n",
       "      <td>visitPage</td>\n",
       "      <td>1.0</td>\n",
       "      <td>b</td>\n",
       "      <td>0.0</td>\n",
       "      <td>0.0</td>\n",
       "    </tr>\n",
       "  </tbody>\n",
       "</table>\n",
       "</div>"
      ],
      "text/plain": [
       "         session_id            action  result_position group  n_results  \\\n",
       "0  0000cbcb67c19c45  searchResultPage              0.0     b       20.0   \n",
       "1  0001382e027b2ea4           checkin              1.0     b        0.0   \n",
       "2  0001382e027b2ea4  searchResultPage              0.0     b       18.0   \n",
       "3  0001382e027b2ea4         visitPage              1.0     b        0.0   \n",
       "\n",
       "   checkin  \n",
       "0      0.0  \n",
       "1    300.0  \n",
       "2      0.0  \n",
       "3      0.0  "
      ]
     },
     "execution_count": 3,
     "metadata": {},
     "output_type": "execute_result"
    }
   ],
   "source": [
    "dataset=dataset.groupby(['session_id','action'], as_index=False)['result_position','group','n_results','checkin'].max()\n",
    "dataset.head(4)"
   ]
  },
  {
   "cell_type": "code",
   "execution_count": 4,
   "metadata": {
    "collapsed": false,
    "deletable": true,
    "editable": true
   },
   "outputs": [
    {
     "data": {
      "text/html": [
       "<div>\n",
       "<style scoped>\n",
       "    .dataframe tbody tr th:only-of-type {\n",
       "        vertical-align: middle;\n",
       "    }\n",
       "\n",
       "    .dataframe tbody tr th {\n",
       "        vertical-align: top;\n",
       "    }\n",
       "\n",
       "    .dataframe thead th {\n",
       "        text-align: right;\n",
       "    }\n",
       "</style>\n",
       "<table border=\"1\" class=\"dataframe\">\n",
       "  <thead>\n",
       "    <tr style=\"text-align: right;\">\n",
       "      <th></th>\n",
       "      <th>session_id</th>\n",
       "      <th>Target_click</th>\n",
       "      <th>result_position</th>\n",
       "      <th>group</th>\n",
       "      <th>n_results</th>\n",
       "      <th>checkin</th>\n",
       "    </tr>\n",
       "  </thead>\n",
       "  <tbody>\n",
       "    <tr>\n",
       "      <th>1</th>\n",
       "      <td>0001382e027b2ea4</td>\n",
       "      <td>1</td>\n",
       "      <td>1.0</td>\n",
       "      <td>b</td>\n",
       "      <td>0.0</td>\n",
       "      <td>0.0</td>\n",
       "    </tr>\n",
       "    <tr>\n",
       "      <th>2</th>\n",
       "      <td>0001e8bb90445cb2</td>\n",
       "      <td>1</td>\n",
       "      <td>1.0</td>\n",
       "      <td>b</td>\n",
       "      <td>0.0</td>\n",
       "      <td>0.0</td>\n",
       "    </tr>\n",
       "    <tr>\n",
       "      <th>3</th>\n",
       "      <td>00064fe774048046</td>\n",
       "      <td>1</td>\n",
       "      <td>1.0</td>\n",
       "      <td>a</td>\n",
       "      <td>0.0</td>\n",
       "      <td>0.0</td>\n",
       "    </tr>\n",
       "    <tr>\n",
       "      <th>4</th>\n",
       "      <td>0007b7f6b575feb6</td>\n",
       "      <td>1</td>\n",
       "      <td>1.0</td>\n",
       "      <td>a</td>\n",
       "      <td>0.0</td>\n",
       "      <td>0.0</td>\n",
       "    </tr>\n",
       "  </tbody>\n",
       "</table>\n",
       "</div>"
      ],
      "text/plain": [
       "         session_id  Target_click  result_position group  n_results  checkin\n",
       "1  0001382e027b2ea4             1              1.0     b        0.0      0.0\n",
       "2  0001e8bb90445cb2             1              1.0     b        0.0      0.0\n",
       "3  00064fe774048046             1              1.0     a        0.0      0.0\n",
       "4  0007b7f6b575feb6             1              1.0     a        0.0      0.0"
      ]
     },
     "execution_count": 4,
     "metadata": {},
     "output_type": "execute_result"
    }
   ],
   "source": [
    "clicks = dataset[dataset.action == 'visitPage']\n",
    "clicks['Target_click'] = 1\n",
    "noclicks = dataset[dataset.action <> 'visitPage']\n",
    "noclicks['Target_click'] = 0\n",
    "\n",
    "noclicks.index = np.arange(1, len(noclicks) + 1)\n",
    "\n",
    "clicks = clicks.groupby(['session_id','Target_click'], as_index=False)['result_position','group','n_results','checkin'].max()\n",
    "noclicks = noclicks.groupby(['session_id','Target_click'], as_index=False)['result_position','group','n_results','checkin'].max()\n",
    "\n",
    "clicks.index = np.arange(1, len(clicks) + 1)\n",
    "noclicks.index = np.arange(1, len(noclicks) + 1)\n",
    "\n",
    "clicks.head(4)"
   ]
  },
  {
   "cell_type": "code",
   "execution_count": 5,
   "metadata": {
    "collapsed": false,
    "deletable": true,
    "editable": true
   },
   "outputs": [
    {
     "data": {
      "text/html": [
       "<div>\n",
       "<style scoped>\n",
       "    .dataframe tbody tr th:only-of-type {\n",
       "        vertical-align: middle;\n",
       "    }\n",
       "\n",
       "    .dataframe tbody tr th {\n",
       "        vertical-align: top;\n",
       "    }\n",
       "\n",
       "    .dataframe thead th {\n",
       "        text-align: right;\n",
       "    }\n",
       "</style>\n",
       "<table border=\"1\" class=\"dataframe\">\n",
       "  <thead>\n",
       "    <tr style=\"text-align: right;\">\n",
       "      <th></th>\n",
       "      <th>session_id</th>\n",
       "      <th>Target_click</th>\n",
       "      <th>result_position</th>\n",
       "      <th>group</th>\n",
       "      <th>n_results</th>\n",
       "      <th>checkin</th>\n",
       "    </tr>\n",
       "  </thead>\n",
       "  <tbody>\n",
       "    <tr>\n",
       "      <th>1</th>\n",
       "      <td>0000cbcb67c19c45</td>\n",
       "      <td>0</td>\n",
       "      <td>0.0</td>\n",
       "      <td>b</td>\n",
       "      <td>20.0</td>\n",
       "      <td>0.0</td>\n",
       "    </tr>\n",
       "    <tr>\n",
       "      <th>2</th>\n",
       "      <td>0001382e027b2ea4</td>\n",
       "      <td>0</td>\n",
       "      <td>1.0</td>\n",
       "      <td>b</td>\n",
       "      <td>18.0</td>\n",
       "      <td>300.0</td>\n",
       "    </tr>\n",
       "    <tr>\n",
       "      <th>3</th>\n",
       "      <td>0001e8bb90445cb2</td>\n",
       "      <td>0</td>\n",
       "      <td>1.0</td>\n",
       "      <td>b</td>\n",
       "      <td>20.0</td>\n",
       "      <td>420.0</td>\n",
       "    </tr>\n",
       "    <tr>\n",
       "      <th>4</th>\n",
       "      <td>000216cf18ae1ab1</td>\n",
       "      <td>0</td>\n",
       "      <td>0.0</td>\n",
       "      <td>a</td>\n",
       "      <td>20.0</td>\n",
       "      <td>0.0</td>\n",
       "    </tr>\n",
       "  </tbody>\n",
       "</table>\n",
       "</div>"
      ],
      "text/plain": [
       "         session_id  Target_click  result_position group  n_results  checkin\n",
       "1  0000cbcb67c19c45             0              0.0     b       20.0      0.0\n",
       "2  0001382e027b2ea4             0              1.0     b       18.0    300.0\n",
       "3  0001e8bb90445cb2             0              1.0     b       20.0    420.0\n",
       "4  000216cf18ae1ab1             0              0.0     a       20.0      0.0"
      ]
     },
     "execution_count": 5,
     "metadata": {},
     "output_type": "execute_result"
    }
   ],
   "source": [
    "noclicks.head(4)"
   ]
  },
  {
   "cell_type": "code",
   "execution_count": 13,
   "metadata": {
    "collapsed": true,
    "deletable": true,
    "editable": true
   },
   "outputs": [],
   "source": [
    "# session_list = list(clicks.session_id)\n",
    "# p=0\n",
    "# noclicks[~noclicks['session_id'].isin(session_list)]"
   ]
  },
  {
   "cell_type": "code",
   "execution_count": 6,
   "metadata": {
    "collapsed": false,
    "deletable": true,
    "editable": true
   },
   "outputs": [],
   "source": [
    "dataset_model = pd.DataFrame(columns = ['session_id','Target_click','result_position','n_results','checkin'])\n",
    "dataset_model = dataset_model.append(noclicks)\n",
    "dataset_model = dataset_model.append(clicks)\n",
    "\n",
    "dataset_model.index = np.arange(1, len(dataset_model) + 1)"
   ]
  },
  {
   "cell_type": "code",
   "execution_count": 7,
   "metadata": {
    "collapsed": false,
    "deletable": true,
    "editable": true
   },
   "outputs": [
    {
     "data": {
      "text/html": [
       "<div>\n",
       "<style scoped>\n",
       "    .dataframe tbody tr th:only-of-type {\n",
       "        vertical-align: middle;\n",
       "    }\n",
       "\n",
       "    .dataframe tbody tr th {\n",
       "        vertical-align: top;\n",
       "    }\n",
       "\n",
       "    .dataframe thead th {\n",
       "        text-align: right;\n",
       "    }\n",
       "</style>\n",
       "<table border=\"1\" class=\"dataframe\">\n",
       "  <thead>\n",
       "    <tr style=\"text-align: right;\">\n",
       "      <th></th>\n",
       "      <th>Target_click</th>\n",
       "      <th>checkin</th>\n",
       "      <th>group</th>\n",
       "      <th>n_results</th>\n",
       "      <th>result_position</th>\n",
       "      <th>session_id</th>\n",
       "    </tr>\n",
       "  </thead>\n",
       "  <tbody>\n",
       "    <tr>\n",
       "      <th>1</th>\n",
       "      <td>0</td>\n",
       "      <td>0.0</td>\n",
       "      <td>0</td>\n",
       "      <td>20.0</td>\n",
       "      <td>0.0</td>\n",
       "      <td>0000cbcb67c19c45</td>\n",
       "    </tr>\n",
       "    <tr>\n",
       "      <th>2</th>\n",
       "      <td>0</td>\n",
       "      <td>300.0</td>\n",
       "      <td>0</td>\n",
       "      <td>18.0</td>\n",
       "      <td>1.0</td>\n",
       "      <td>0001382e027b2ea4</td>\n",
       "    </tr>\n",
       "    <tr>\n",
       "      <th>3</th>\n",
       "      <td>0</td>\n",
       "      <td>420.0</td>\n",
       "      <td>0</td>\n",
       "      <td>20.0</td>\n",
       "      <td>1.0</td>\n",
       "      <td>0001e8bb90445cb2</td>\n",
       "    </tr>\n",
       "    <tr>\n",
       "      <th>4</th>\n",
       "      <td>0</td>\n",
       "      <td>0.0</td>\n",
       "      <td>1</td>\n",
       "      <td>20.0</td>\n",
       "      <td>0.0</td>\n",
       "      <td>000216cf18ae1ab1</td>\n",
       "    </tr>\n",
       "  </tbody>\n",
       "</table>\n",
       "</div>"
      ],
      "text/plain": [
       "  Target_click  checkin group  n_results  result_position        session_id\n",
       "1            0      0.0     0       20.0              0.0  0000cbcb67c19c45\n",
       "2            0    300.0     0       18.0              1.0  0001382e027b2ea4\n",
       "3            0    420.0     0       20.0              1.0  0001e8bb90445cb2\n",
       "4            0      0.0     1       20.0              0.0  000216cf18ae1ab1"
      ]
     },
     "execution_count": 7,
     "metadata": {},
     "output_type": "execute_result"
    }
   ],
   "source": [
    "dataset_model.group = pd.Categorical(pd.factorize(dataset_model.group)[0])\n",
    "dataset_model.Target_click = pd.Categorical(pd.factorize(dataset_model.Target_click)[0])\n",
    "dataset_model.head(4)"
   ]
  },
  {
   "cell_type": "code",
   "execution_count": 8,
   "metadata": {
    "collapsed": false,
    "deletable": true,
    "editable": true
   },
   "outputs": [],
   "source": [
    "# Independant Variable\n",
    "x = dataset_model[[\"result_position\",\"group\",\"checkin\",\"n_results\"]]\n",
    "x = np.array(x)\n",
    "\n",
    "#Scaling the variables\n",
    "min_max_scaler = preprocessing.MinMaxScaler(feature_range=(-1,1))\n",
    "x = min_max_scaler.fit_transform(x)\n",
    "\n",
    "#Dependant Variable\n",
    "y = dataset_model[\"Target_click\"]\n",
    "y = np.array(y)\n",
    "\n",
    "x_train,x_test,y_train,y_test = train_test_split(x,y,test_size=0.40)"
   ]
  },
  {
   "cell_type": "markdown",
   "metadata": {
    "deletable": true,
    "editable": true
   },
   "source": [
    "### Logistic Regression"
   ]
  },
  {
   "cell_type": "code",
   "execution_count": 9,
   "metadata": {
    "collapsed": false,
    "deletable": true,
    "editable": true
   },
   "outputs": [
    {
     "name": "stdout",
     "output_type": "stream",
     "text": [
      "Logistic Regression - Training Data Accuracy: 0.895439710682\n",
      "Logistic Regression - Test Data Accuracy: 0.891852557487\n"
     ]
    }
   ],
   "source": [
    "Logist_reg = LogisticRegression()\n",
    "Logist_reg.fit(x_train,y_train)\n",
    "print 'Logistic Regression - Training Data Accuracy:', Logist_reg.score(x_train,y_train)\n",
    "print 'Logistic Regression - Test Data Accuracy:', Logist_reg.score(x_test,y_test)"
   ]
  },
  {
   "cell_type": "markdown",
   "metadata": {
    "deletable": true,
    "editable": true
   },
   "source": [
    "### Decission Trees Classifiers"
   ]
  },
  {
   "cell_type": "code",
   "execution_count": 15,
   "metadata": {
    "collapsed": false,
    "deletable": true,
    "editable": true
   },
   "outputs": [
    {
     "name": "stdout",
     "output_type": "stream",
     "text": [
      "Decision Tree - Training Data Accuracy: 0.914474728764\n",
      "Decision Tree - Training Data Accuracy: 0.916091132809\n"
     ]
    }
   ],
   "source": [
    "d_tree = DecisionTreeClassifier(max_depth=1)  #should adujest Max depth of the tree here # We are getting 99% accuracy for max depth 2\n",
    "d_tree.fit(x_train, y_train)\n",
    "print \"Decision Tree - Training Data Accuracy:\",d_tree.score(x_train,y_train)\n",
    "print \"Decision Tree - Training Data Accuracy:\",d_tree.score(x_test,y_test)"
   ]
  },
  {
   "cell_type": "markdown",
   "metadata": {
    "deletable": true,
    "editable": true
   },
   "source": [
    "### K-NN Calssifier"
   ]
  },
  {
   "cell_type": "code",
   "execution_count": 23,
   "metadata": {
    "collapsed": false,
    "deletable": true,
    "editable": true
   },
   "outputs": [
    {
     "name": "stdout",
     "output_type": "stream",
     "text": [
      "KNeighborsClassifier - Training Data Accuracy: 0.999929434595\n",
      "KNeighborsClassifier - Training Data Accuracy: 0.999973538673\n"
     ]
    }
   ],
   "source": [
    "# ?KNeighborsClassifier\n",
    "knn = KNeighborsClassifier()  #default K=5 # we are getting 99% accuracy with these features for k=1\n",
    "knn.fit(x_train, y_train)\n",
    "print \"KNeighborsClassifier - Training Data Accuracy:\",knn.score(x_train,y_train)\n",
    "print \"KNeighborsClassifier - Training Data Accuracy:\",knn.score(x_test,y_test)"
   ]
  },
  {
   "cell_type": "markdown",
   "metadata": {
    "deletable": true,
    "editable": true
   },
   "source": [
    "### Naive Bayes Classifier"
   ]
  },
  {
   "cell_type": "code",
   "execution_count": 24,
   "metadata": {
    "collapsed": false,
    "deletable": true,
    "editable": true
   },
   "outputs": [
    {
     "name": "stdout",
     "output_type": "stream",
     "text": [
      "NaiveBayesClassifier - Training Data Accuracy: 0.915021610655\n",
      "NaiveBayesClassifier - Training Data Accuracy: 0.916593898018\n"
     ]
    }
   ],
   "source": [
    "NaiveBayes = GaussianNB()\n",
    "NaiveBayes.fit(x_train, y_train)\n",
    "print \"NaiveBayesClassifier - Training Data Accuracy:\",NaiveBayes.score(x_train,y_train)\n",
    "print \"NaiveBayesClassifier - Training Data Accuracy:\",NaiveBayes.score(x_test,y_test)"
   ]
  },
  {
   "cell_type": "markdown",
   "metadata": {
    "deletable": true,
    "editable": true
   },
   "source": [
    "### Linear Discriminant Analysis"
   ]
  },
  {
   "cell_type": "code",
   "execution_count": 25,
   "metadata": {
    "collapsed": false,
    "deletable": true,
    "editable": true
   },
   "outputs": [
    {
     "name": "stdout",
     "output_type": "stream",
     "text": [
      "LDA - Training Data Accuracy: 0.888753638529\n",
      "LDA - Training Data Accuracy: 0.884364002011\n"
     ]
    }
   ],
   "source": [
    "Lda = LinearDiscriminantAnalysis()\n",
    "Lda.fit(x_train, y_train)\n",
    "print \"LDA - Training Data Accuracy:\",Lda.score(x_train,y_train)\n",
    "print \"LDA - Training Data Accuracy:\",Lda.score(x_test,y_test)"
   ]
  },
  {
   "cell_type": "markdown",
   "metadata": {
    "deletable": true,
    "editable": true
   },
   "source": [
    "### Support Vector Machines"
   ]
  },
  {
   "cell_type": "code",
   "execution_count": 26,
   "metadata": {
    "collapsed": false,
    "deletable": true,
    "editable": true
   },
   "outputs": [
    {
     "name": "stdout",
     "output_type": "stream",
     "text": [
      "SVM - Training Data Accuracy: 0.894681132575\n",
      "SVM - Training Data Accuracy: 0.890476568495\n"
     ]
    }
   ],
   "source": [
    "SVM_Classifier = SVC()\n",
    "SVM_Classifier.fit(x_train, y_train)\n",
    "print \"SVM - Training Data Accuracy:\",SVM_Classifier.score(x_train,y_train)\n",
    "print \"SVM - Training Data Accuracy:\",SVM_Classifier.score(x_test,y_test)"
   ]
  },
  {
   "cell_type": "code",
   "execution_count": 27,
   "metadata": {
    "collapsed": false,
    "deletable": true,
    "editable": true
   },
   "outputs": [
    {
     "data": {
      "text/html": [
       "<div>\n",
       "<style scoped>\n",
       "    .dataframe tbody tr th:only-of-type {\n",
       "        vertical-align: middle;\n",
       "    }\n",
       "\n",
       "    .dataframe tbody tr th {\n",
       "        vertical-align: top;\n",
       "    }\n",
       "\n",
       "    .dataframe thead th {\n",
       "        text-align: right;\n",
       "    }\n",
       "</style>\n",
       "<table border=\"1\" class=\"dataframe\">\n",
       "  <thead>\n",
       "    <tr style=\"text-align: right;\">\n",
       "      <th></th>\n",
       "      <th>Classifier_Name</th>\n",
       "      <th>Training_Score</th>\n",
       "      <th>Testing_Score</th>\n",
       "    </tr>\n",
       "  </thead>\n",
       "  <tbody>\n",
       "    <tr>\n",
       "      <th>1</th>\n",
       "      <td>Logistic</td>\n",
       "      <td>0.89544</td>\n",
       "      <td>0.891853</td>\n",
       "    </tr>\n",
       "    <tr>\n",
       "      <th>2</th>\n",
       "      <td>D_Tree</td>\n",
       "      <td>0.914475</td>\n",
       "      <td>0.916091</td>\n",
       "    </tr>\n",
       "    <tr>\n",
       "      <th>3</th>\n",
       "      <td>K-NN</td>\n",
       "      <td>0.999929</td>\n",
       "      <td>0.999974</td>\n",
       "    </tr>\n",
       "    <tr>\n",
       "      <th>4</th>\n",
       "      <td>NaiveBayes</td>\n",
       "      <td>0.915022</td>\n",
       "      <td>0.916594</td>\n",
       "    </tr>\n",
       "    <tr>\n",
       "      <th>5</th>\n",
       "      <td>LDA</td>\n",
       "      <td>0.888754</td>\n",
       "      <td>0.884364</td>\n",
       "    </tr>\n",
       "    <tr>\n",
       "      <th>6</th>\n",
       "      <td>SVM</td>\n",
       "      <td>0.894681</td>\n",
       "      <td>0.890477</td>\n",
       "    </tr>\n",
       "  </tbody>\n",
       "</table>\n",
       "</div>"
      ],
      "text/plain": [
       "  Classifier_Name Training_Score Testing_Score\n",
       "1        Logistic        0.89544      0.891853\n",
       "2          D_Tree       0.914475      0.916091\n",
       "3            K-NN       0.999929      0.999974\n",
       "4      NaiveBayes       0.915022      0.916594\n",
       "5             LDA       0.888754      0.884364\n",
       "6             SVM       0.894681      0.890477"
      ]
     },
     "execution_count": 27,
     "metadata": {},
     "output_type": "execute_result"
    }
   ],
   "source": [
    "Classifiers_df = pd.DataFrame(columns = ['Classifier_Name','Training_Score','Testing_Score'])\n",
    "\n",
    "Classifiers_df.at[1,'Classifier_Name'] = \"Logistic\"\n",
    "Classifiers_df.at[1,'Training_Score'] = Logist_reg.score(x_train,y_train)\n",
    "Classifiers_df.at[1,'Testing_Score'] = Logist_reg.score(x_test,y_test)\n",
    "\n",
    "Classifiers_df.at[2,'Classifier_Name'] = \"D_Tree\"\n",
    "Classifiers_df.at[2,'Training_Score'] = d_tree.score(x_train,y_train)\n",
    "Classifiers_df.at[2,'Testing_Score'] = d_tree.score(x_test,y_test)\n",
    "\n",
    "Classifiers_df.at[3,'Classifier_Name'] = \"K-NN\"\n",
    "Classifiers_df.at[3,'Training_Score'] = knn.score(x_train,y_train)\n",
    "Classifiers_df.at[3,'Testing_Score'] = knn.score(x_test,y_test)\n",
    "\n",
    "Classifiers_df.at[4,'Classifier_Name'] = \"NaiveBayes\"\n",
    "Classifiers_df.at[4,'Training_Score'] = NaiveBayes.score(x_train,y_train)\n",
    "Classifiers_df.at[4,'Testing_Score'] = NaiveBayes.score(x_test,y_test)\n",
    "\n",
    "Classifiers_df.at[5,'Classifier_Name'] = \"LDA\"\n",
    "Classifiers_df.at[5,'Training_Score'] = Lda.score(x_train,y_train)\n",
    "Classifiers_df.at[5,'Testing_Score'] = Lda.score(x_test,y_test)\n",
    "\n",
    "Classifiers_df.at[6,'Classifier_Name'] = \"SVM\"\n",
    "Classifiers_df.at[6,'Training_Score'] = SVM_Classifier.score(x_train,y_train)\n",
    "Classifiers_df.at[6,'Testing_Score'] = SVM_Classifier.score(x_test,y_test)\n",
    "\n",
    "Classifiers_df"
   ]
  },
  {
   "cell_type": "code",
   "execution_count": 28,
   "metadata": {
    "collapsed": false,
    "deletable": true,
    "editable": true
   },
   "outputs": [
    {
     "data": {
      "image/png": "[encoded data removed]",
      "text/plain": [
       "<matplotlib.figure.Figure at 0x17d815f8>"
      ]
     },
     "metadata": {},
     "output_type": "display_data"
    }
   ],
   "source": [
    "pos = list(range(len(Classifiers_df))) ;width = 0.25 \n",
    "\n",
    "plt.bar(pos, Classifiers_df['Training_Score'],width, alpha=0.5,color='#EE3224') \n",
    "plt.bar([p + width for p in pos], Classifiers_df['Testing_Score'],width,alpha=0.5,color='#F78F1E') \n",
    "\n",
    "plt.xlabel('Classifiers')\n",
    "plt.ylabel('Accuracy Scores')\n",
    "plt.title('Accuracy Scores of Various Classifiers')\n",
    "\n",
    "p = np.arange(6)\n",
    "plt.xticks(p,Classifiers_df.Classifier_Name)\n",
    "\n",
    "plt.legend(['Train', 'Test'], loc='upper right')\n",
    "plt.show()"
   ]
  },
  {
   "cell_type": "code",
   "execution_count": 29,
   "metadata": {
    "collapsed": false,
    "deletable": true,
    "editable": true
   },
   "outputs": [
    {
     "data": {
      "image/png": "[encoded data removed]",
      "text/plain": [
       "<matplotlib.figure.Figure at 0x19818860>"
      ]
     },
     "metadata": {},
     "output_type": "display_data"
    }
   ],
   "source": [
    "pos = where(y == 1)\n",
    "neg = where(y == 0)\n",
    "scatter(x[pos, 0], x[pos, 1], marker='o', c='b')\n",
    "scatter(x[neg, 0], x[neg, 1], marker='x', c='r')\n",
    "legend(['No Click', 'Click'])\n",
    "show()"
   ]
  },
  {
   "cell_type": "raw",
   "metadata": {
    "deletable": true,
    "editable": true
   },
   "source": [
    "# from sklearn.metrics import confusion_matrix,classification_report\n",
    "# predicted = Logist_reg.predict(x_test)\n",
    "# matrix = confusion_matrix(y_test, predicted)\n",
    "# print matrix\n",
    "# predicted = Logist_reg.predict(x_test)\n",
    "# report = classification_report(y_test, predicted)\n",
    "# print report"
   ]
  }
 ],
 "metadata": {
  "kernelspec": {
   "display_name": "Python 2",
   "language": "python",
   "name": "python2"
  },
  "language_info": {
   "codemirror_mode": {
    "name": "ipython",
    "version": 2
   },
   "file_extension": ".py",
   "mimetype": "text/x-python",
   "name": "python",
   "nbconvert_exporter": "python",
   "pygments_lexer": "ipython2",
   "version": "2.7.13"
  }
 },
 "nbformat": 4,
 "nbformat_minor": 2
}
