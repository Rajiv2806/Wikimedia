{
 "cells": [
  {
   "cell_type": "code",
   "execution_count": 9,
   "metadata": {
    "collapsed": false,
    "deletable": true,
    "editable": true
   },
   "outputs": [
    {
     "data": {
      "text/html": [
       "<div>\n",
       "<table border=\"1\" class=\"dataframe\">\n",
       "  <thead>\n",
       "    <tr style=\"text-align: right;\">\n",
       "      <th></th>\n",
       "      <th>uuid</th>\n",
       "      <th>timestamp</th>\n",
       "      <th>session_id</th>\n",
       "      <th>group</th>\n",
       "      <th>action</th>\n",
       "      <th>checkin</th>\n",
       "      <th>page_id</th>\n",
       "      <th>n_results</th>\n",
       "      <th>result_position</th>\n",
       "    </tr>\n",
       "  </thead>\n",
       "  <tbody>\n",
       "    <tr>\n",
       "      <th>0</th>\n",
       "      <td>00000736167c507e8ec225bd9e71f9e5</td>\n",
       "      <td>2.016030e+13</td>\n",
       "      <td>78245c2c3fba013a</td>\n",
       "      <td>b</td>\n",
       "      <td>searchResultPage</td>\n",
       "      <td>NaN</td>\n",
       "      <td>cbeb66d1bc1f1bc2</td>\n",
       "      <td>5.0</td>\n",
       "      <td>NaN</td>\n",
       "    </tr>\n",
       "    <tr>\n",
       "      <th>1</th>\n",
       "      <td>00000c69fe345268935463abbfa5d5b3</td>\n",
       "      <td>2.016031e+13</td>\n",
       "      <td>c559c3be98dca8a4</td>\n",
       "      <td>a</td>\n",
       "      <td>searchResultPage</td>\n",
       "      <td>NaN</td>\n",
       "      <td>eb658e8722aad674</td>\n",
       "      <td>10.0</td>\n",
       "      <td>NaN</td>\n",
       "    </tr>\n",
       "    <tr>\n",
       "      <th>2</th>\n",
       "      <td>00003bfdab715ee59077a3670331b787</td>\n",
       "      <td>2.016030e+13</td>\n",
       "      <td>760bf89817ce4b08</td>\n",
       "      <td>a</td>\n",
       "      <td>checkin</td>\n",
       "      <td>30.0</td>\n",
       "      <td>f99a9fc1f7fdd21e</td>\n",
       "      <td>NaN</td>\n",
       "      <td>NaN</td>\n",
       "    </tr>\n",
       "    <tr>\n",
       "      <th>3</th>\n",
       "      <td>0000465cd7c35ad2bdeafec953e08c1a</td>\n",
       "      <td>2.016030e+13</td>\n",
       "      <td>fb905603d31b2071</td>\n",
       "      <td>a</td>\n",
       "      <td>checkin</td>\n",
       "      <td>60.0</td>\n",
       "      <td>e5626962a6939a75</td>\n",
       "      <td>NaN</td>\n",
       "      <td>10.0</td>\n",
       "    </tr>\n",
       "    <tr>\n",
       "      <th>4</th>\n",
       "      <td>000050cbb4ef5b42b16c4d2cf69e6358</td>\n",
       "      <td>2.016030e+13</td>\n",
       "      <td>c2bf5e5172a892dc</td>\n",
       "      <td>a</td>\n",
       "      <td>checkin</td>\n",
       "      <td>30.0</td>\n",
       "      <td>787dd6a4c371cbf9</td>\n",
       "      <td>NaN</td>\n",
       "      <td>NaN</td>\n",
       "    </tr>\n",
       "  </tbody>\n",
       "</table>\n",
       "</div>"
      ],
      "text/plain": [
       "                               uuid     timestamp        session_id group  \\\n",
       "0  00000736167c507e8ec225bd9e71f9e5  2.016030e+13  78245c2c3fba013a     b   \n",
       "1  00000c69fe345268935463abbfa5d5b3  2.016031e+13  c559c3be98dca8a4     a   \n",
       "2  00003bfdab715ee59077a3670331b787  2.016030e+13  760bf89817ce4b08     a   \n",
       "3  0000465cd7c35ad2bdeafec953e08c1a  2.016030e+13  fb905603d31b2071     a   \n",
       "4  000050cbb4ef5b42b16c4d2cf69e6358  2.016030e+13  c2bf5e5172a892dc     a   \n",
       "\n",
       "             action  checkin           page_id  n_results  result_position  \n",
       "0  searchResultPage      NaN  cbeb66d1bc1f1bc2        5.0              NaN  \n",
       "1  searchResultPage      NaN  eb658e8722aad674       10.0              NaN  \n",
       "2           checkin     30.0  f99a9fc1f7fdd21e        NaN              NaN  \n",
       "3           checkin     60.0  e5626962a6939a75        NaN             10.0  \n",
       "4           checkin     30.0  787dd6a4c371cbf9        NaN              NaN  "
      ]
     },
     "execution_count": 9,
     "metadata": {},
     "output_type": "execute_result"
    }
   ],
   "source": [
    "import pandas as pd\n",
    "import numpy as np\n",
    "dataset = pd.read_csv(\"C:\\Users\\Rajiv2806\\Documents\\Resumes\\Inkredo Assesement\\events_log.csv\")\n",
    "dataset.head()"
   ]
  },
  {
   "cell_type": "code",
   "execution_count": 11,
   "metadata": {
    "collapsed": false,
    "deletable": true,
    "editable": true
   },
   "outputs": [],
   "source": [
    "dataset_new = pd.DataFrame( columns = ['Trans_Id','session_id','group','checkin','no_results','result_position','Target_click'])\n",
    "\n",
    "i_visit_indx = 0; dataset_new_indx =1\n",
    "visitindex = 0; i_prvs_indx=0\n",
    "reset_sess =1; searchres=0"
   ]
  },
  {
   "cell_type": "code",
   "execution_count": null,
   "metadata": {
    "collapsed": false,
    "deletable": true,
    "editable": true
   },
   "outputs": [
    {
     "name": "stderr",
     "output_type": "stream",
     "text": [
      "C:\\Users\\Rajiv2806\\AppData\\Local\\Enthought\\Canopy\\edm\\envs\\User\\lib\\site-packages\\ipykernel\\__main__.py:36: RuntimeWarning: All-NaN slice encountered\n",
      "C:\\Users\\Rajiv2806\\AppData\\Local\\Enthought\\Canopy\\edm\\envs\\User\\lib\\site-packages\\ipykernel\\__main__.py:13: RuntimeWarning: All-NaN slice encountered\n"
     ]
    }
   ],
   "source": [
    "for i_event_indx in range(0,len(dataset)):\n",
    "    dataset_new_indx= len(dataset_new)+1\n",
    "    if i_event_indx==0:\n",
    "        session_id = dataset.loc[i_event_indx,'session_id'] \n",
    "    if  session_id <> dataset.loc[i_event_indx,'session_id']:\n",
    "        reset_sess = 0; searchres = 0; visitindex=1\n",
    "        if len(dataset_new.loc[dataset_new['session_id']==session_id].index.values)>0 :\n",
    "            dataset_new.at[dataset_new_indx,'Target_click'] = 0\n",
    "            dataset_new.at[dataset_new_indx,'no_results'] = no_results\n",
    "            dataset_new.at[dataset_new_indx,'session_id'] = session_id\n",
    "            dataset_new.at[dataset_new_indx,'Trans_Id'] = visitindex\n",
    "            dataset_new.at[dataset_new_indx,'result_position'] = result_position\n",
    "            dataset_new.at[dataset_new_indx,'checkin'] = np.nanmax(dataset.loc[dataset['session_id'] == session_id, 'checkin'].values)\n",
    "            dataset_new.at[dataset_new_indx,'group']=dataset.loc[dataset['session_id'] == session_id, 'group'].values[0]\n",
    "        no_results=0\n",
    "        checkin=0\n",
    "        \n",
    "        \n",
    "    session_id = dataset.loc[i_event_indx,'session_id']\n",
    "    group =  dataset.loc[i_event_indx,'group']\n",
    "    result_position = dataset.loc[i_event_indx,'result_position']\n",
    "\n",
    "    \n",
    "    if dataset.loc[i_event_indx,'action'] == 'searchResultPage' and float('-inf') < float(dataset.loc[i_event_indx,'n_results']) < float('inf') :\n",
    "        no_results = dataset.loc[i_event_indx,'n_results']\n",
    "        searchres=1\n",
    "        visitindex=1\n",
    "    \n",
    "    if dataset.loc[i_event_indx,'action'] == 'visitPage':\n",
    "        dataset_new.at[dataset_new_indx,'Target_click'] = 1\n",
    "        dataset_new.at[dataset_new_indx,'no_results'] = no_results\n",
    "        dataset_new.at[dataset_new_indx,'session_id'] = dataset.loc[i_event_indx,'session_id']\n",
    "        dataset_new.at[dataset_new_indx,'Trans_Id'] = visitindex\n",
    "        dataset_new.at[dataset_new_indx,'result_position'] = dataset.loc[i_event_indx,'result_position']\n",
    "        dataset_new.at[dataset_new_indx,'group'] = dataset.loc[i_event_indx,'group']\n",
    "        dataset_new.at[dataset_new_indx,'checkin'] = np.nanmax(dataset.loc[dataset['session_id'] == session_id, 'checkin'].values)\n",
    "        i_prvs_indx = dataset_new_indx\n",
    "        dataset_new_indx = dataset_new_indx+1\n",
    "        visitindex = visitindex+1\n",
    "        searchres=0\n",
    "        reset_sess=1        \n",
    "        \n",
    "    if dataset.loc[i_event_indx,'action'] == 'checkin':     \n",
    "          result_position = dataset.loc[i_event_indx,'result_position']\n"
   ]
  }
 ],
 "metadata": {
  "kernelspec": {
   "display_name": "Python 2",
   "language": "python",
   "name": "python2"
  },
  "language_info": {
   "codemirror_mode": {
    "name": "ipython",
    "version": 2
   },
   "file_extension": ".py",
   "mimetype": "text/x-python",
   "name": "python",
   "nbconvert_exporter": "python",
   "pygments_lexer": "ipython2",
   "version": "2.7.13"
  }
 },
 "nbformat": 4,
 "nbformat_minor": 2
}
